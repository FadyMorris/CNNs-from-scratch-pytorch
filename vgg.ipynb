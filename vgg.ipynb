{
 "cells": [
  {
   "cell_type": "markdown",
   "id": "7c93eead-290c-4abe-bad1-c3635aef71ec",
   "metadata": {},
   "source": [
    "# VGG from Scratch in PyTorch"
   ]
  },
  {
   "cell_type": "code",
   "execution_count": 2,
   "id": "ca85c9fe-f092-4799-9879-b06357e585ec",
   "metadata": {},
   "outputs": [],
   "source": [
    "import numpy as np\n",
    "import torch\n",
    "import torch.nn as nn\n",
    "from torchvision import transforms\n",
    "\n",
    "from collections import OrderedDict\n",
    "import os\n",
    "import multiprocessing"
   ]
  },
  {
   "cell_type": "code",
   "execution_count": 3,
   "id": "656ea11c-f068-46b2-a6ae-0cc5b08ded3a",
   "metadata": {
    "tags": []
   },
   "outputs": [],
   "source": [
    "#!pip install -r requirements.txt"
   ]
  },
  {
   "cell_type": "code",
   "execution_count": 4,
   "id": "531681ad-5d6c-48db-ad83-e26f66f70963",
   "metadata": {},
   "outputs": [],
   "source": [
    "%load_ext autoreload\n",
    "%autoreload 2"
   ]
  },
  {
   "cell_type": "code",
   "execution_count": 5,
   "id": "f24dd2ab-c55a-49bf-aea6-3422326107c7",
   "metadata": {},
   "outputs": [
    {
     "name": "stdout",
     "output_type": "stream",
     "text": [
      "GPU Model:  NVIDIA GeForce RTX 3070 Laptop GPU\n",
      "CPU model name\t: 12th Gen Intel(R) Core(TM) i7-12650H\n",
      "CPU Count:  16\n"
     ]
    }
   ],
   "source": [
    "# Print the type of the GPU used\n",
    "print(\"GPU Model: \", torch.cuda.get_device_name(0))\n",
    "\n",
    "# Print CPU Information\n",
    "print(\"CPU \", end='')\n",
    "os.system(\"cat /proc/cpuinfo | grep 'model name' | uniq\");\n",
    "print(\"CPU Count: \", multiprocessing.cpu_count())"
   ]
  },
  {
   "cell_type": "code",
   "execution_count": 6,
   "id": "5b25d02e-b0a5-44c9-bf34-c21612e8f5b2",
   "metadata": {
    "tags": []
   },
   "outputs": [
    {
     "data": {
      "text/plain": [
       "device(type='cuda')"
      ]
     },
     "execution_count": 6,
     "metadata": {},
     "output_type": "execute_result"
    }
   ],
   "source": [
    "# Device configuration\n",
    "device = torch.device(\"cuda\" if torch.cuda.is_available() else \"cpu\")\n",
    "device"
   ]
  },
  {
   "cell_type": "markdown",
   "id": "02a75d6c-2cff-406a-8a69-f7fad48d378c",
   "metadata": {},
   "source": [
    "## VGG Architecture Definition"
   ]
  },
  {
   "cell_type": "code",
   "execution_count": 7,
   "id": "33aaa890-5d92-44e7-b94f-1d38d9edb77e",
   "metadata": {
    "tags": []
   },
   "outputs": [],
   "source": [
    "from src.custom_layers import ResidualBlock, get_conv_layer, get_fc_layer"
   ]
  },
  {
   "cell_type": "code",
   "execution_count": 8,
   "id": "2e0de4be-b1ad-4c93-b70f-96f210c38438",
   "metadata": {
    "tags": []
   },
   "outputs": [],
   "source": [
    "class VGG16(nn.Module):\n",
    "    def __init__(self, num_classes=10):\n",
    "        super(VGG16, self).__init__()\n",
    "        pool_idx = [2, 4, 7, 10, 13]\n",
    "        layer_ouptut_sizes = 2 * [64] + 2 * [128] + 3 * [256] + 6 * [512]\n",
    "        layers = OrderedDict()\n",
    "        in_channels = 3\n",
    "        for i in range(1, len(layer_ouptut_sizes)+1):\n",
    "            pool = (i in pool_idx)\n",
    "            out_channels = layer_ouptut_sizes[i-1]\n",
    "            layers[f\"layer{i}\"] = get_conv_layer(in_channels, out_channels, kernel_size=3, stride=1, padding=1, pool=pool)\n",
    "            in_channels = out_channels\n",
    "        layers['flatten'] = nn.Flatten()\n",
    "        layers['fc1'] = get_fc_layer(7*7*512, 4096, dropout=0.5)\n",
    "        layers['fc2'] = get_fc_layer(4096, 4096, dropout=0.5)\n",
    "        layers['fc3'] = nn.Sequential(OrderedDict([(\"linear\", nn.Linear(4096, num_classes))]))\n",
    "\n",
    "        self.model = nn.Sequential(layers)\n",
    "        \n",
    "    def forward(self, x):\n",
    "        return self.model(x)"
   ]
  },
  {
   "cell_type": "markdown",
   "id": "9a7a24b8-0504-4fb9-a53c-bb2d0d444113",
   "metadata": {},
   "source": [
    "## Training"
   ]
  },
  {
   "cell_type": "code",
   "execution_count": 8,
   "id": "ad519beb-4a60-445f-9b49-130f6abc7ce6",
   "metadata": {},
   "outputs": [],
   "source": [
    "num_classes = 100\n",
    "num_epochs = 10\n",
    "batch_size = 32\n",
    "learning_rate =  0.005\n",
    "\n",
    "model_save_path = \"checkpoints/best_vgg16_model.pt\""
   ]
  },
  {
   "cell_type": "code",
   "execution_count": 9,
   "id": "cdb82350-6da1-4231-ae56-048b403934b6",
   "metadata": {},
   "outputs": [],
   "source": [
    "from src.data import get_data_loaders"
   ]
  },
  {
   "cell_type": "code",
   "execution_count": 10,
   "id": "eb7666ed-92dc-487d-b8e4-9a6c14458f39",
   "metadata": {},
   "outputs": [
    {
     "name": "stdout",
     "output_type": "stream",
     "text": [
      "Files already downloaded and verified\n",
      "Files already downloaded and verified\n"
     ]
    }
   ],
   "source": [
    "gpu_kwargs = {\n",
    "    \"persistent_workers\": True, \n",
    "    \"pin_memory\": True, \n",
    "    \"pin_memory_device\": 'cuda:0', \n",
    "    \"prefetch_factor\": 4\n",
    "}\n",
    "\n",
    "data_loaders = get_data_loaders(\n",
    "                                data_dir=\"./data\", \n",
    "                                batch_size=batch_size, \n",
    "                                dataset=\"CIFAR100\",\n",
    "                                subset_fraction=1, # Modify this value to include fractions of the dataset. Setting it to 1 will use the whole dataset.\n",
    "                                num_workers=multiprocessing.cpu_count(), \n",
    "                                **gpu_kwargs\n",
    "                               )"
   ]
  },
  {
   "cell_type": "code",
   "execution_count": 11,
   "id": "5fbe7613-8bb4-4cb3-8be1-e32271ac027e",
   "metadata": {},
   "outputs": [],
   "source": [
    "model = VGG16(num_classes=num_classes).to(device)\n",
    "\n",
    "if os.path.exists(model_save_path):\n",
    "    model.load_state_dict(torch.load(model_save_path))"
   ]
  },
  {
   "cell_type": "code",
   "execution_count": 12,
   "id": "737fec0a-9d60-4c35-8b94-3aecffc526a0",
   "metadata": {},
   "outputs": [],
   "source": [
    "# Loss and optimizer\n",
    "criterion = nn.CrossEntropyLoss()\n",
    "optimizer = torch.optim.SGD(model.parameters(), lr=learning_rate, weight_decay = 0.005, momentum = 0.9)  "
   ]
  },
  {
   "cell_type": "code",
   "execution_count": 13,
   "id": "46345d12-19aa-422a-b3c6-bf7af0a6b05f",
   "metadata": {},
   "outputs": [],
   "source": [
    "common_transforms = [\n",
    "        transforms.Normalize(mean=[0.4914, 0.4822, 0.4465], std=[0.2023, 0.1994, 0.2010])\n",
    "]\n",
    "\n",
    "# # Other data augmentation to try for the training dataset\n",
    "# train_transforms = [\n",
    "#                 transforms.RandomAffine(scale=(0.9, 1.1), translate=(0.1, 0.1), degrees=10, fill=0, interpolation=transforms.InterpolationMode.BILINEAR),\n",
    "#                 transforms.ColorJitter(brightness=0.5, contrast=0.5, saturation=0.5, hue=0.5),\n",
    "#                 transforms.RandomHorizontalFlip(0.5),\n",
    "#             ]"
   ]
  },
  {
   "cell_type": "code",
   "execution_count": 14,
   "id": "10ae92a7-2c39-4a44-bdbf-5172ae94ceb4",
   "metadata": {
    "tags": []
   },
   "outputs": [],
   "source": [
    "transformations = {\n",
    "    \"train\": common_transforms, # + train_transforms\n",
    "    \"valid\": common_transforms,\n",
    "    \"test\": common_transforms\n",
    "}"
   ]
  },
  {
   "cell_type": "code",
   "execution_count": 15,
   "id": "eb97b9e6-73ca-4010-bd23-cec16cc2ac5e",
   "metadata": {
    "tags": []
   },
   "outputs": [],
   "source": [
    "from src.train import training_loop"
   ]
  },
  {
   "cell_type": "code",
   "execution_count": 16,
   "id": "8bc2b344-3a82-42a7-81f9-cb78c61ed8b2",
   "metadata": {
    "tags": []
   },
   "outputs": [
    {
     "data": {
      "image/png": "[encoded data removed]",
      "text/plain": [
       "<Figure size 1200x800 with 2 Axes>"
      ]
     },
     "metadata": {},
     "output_type": "display_data"
    },
    {
     "name": "stdout",
     "output_type": "stream",
     "text": [
      "Epoch [10/10], Training Loss: 3.2243, Validation Loss: 3.6936, Validation Accuracy: 13.20%\n",
      "New minimum validation loss: 3.693616. Saving model ...\n"
     ]
    }
   ],
   "source": [
    "training_loop(model, device, data_loaders, optimizer, criterion, num_epochs, model_save_path, transformations)"
   ]
  },
  {
   "cell_type": "markdown",
   "id": "70d3ec5e-7460-4073-9327-745e05d3719a",
   "metadata": {
    "tags": []
   },
   "source": [
    "## Testing Your Model"
   ]
  },
  {
   "cell_type": "code",
   "execution_count": 17,
   "id": "25090306-3588-4ebc-b3db-e6cd749eefcc",
   "metadata": {
    "tags": []
   },
   "outputs": [],
   "source": [
    "from src.train import test_one_epoch"
   ]
  },
  {
   "cell_type": "code",
   "execution_count": 18,
   "id": "52afa2d9-7cc1-4ba2-a4a2-61557e6f228c",
   "metadata": {
    "tags": []
   },
   "outputs": [
    {
     "name": "stderr",
     "output_type": "stream",
     "text": [
      "Testing: 100%|████████████████████████████████| 313/313 [01:50<00:00,  2.84it/s]\n"
     ]
    }
   ],
   "source": [
    "# Load best weights\n",
    "if os.path.exists(model_save_path):\n",
    "    model.load_state_dict(torch.load(model_save_path))\n",
    "    \n",
    "test_loss, test_accuracy = test_one_epoch(\n",
    "    model, \n",
    "    device, data_loaders[\"test\"], \n",
    "    optimizer, \n",
    "    criterion, \n",
    "    description=\"Testing\", \n",
    "    transformations=transforms.Compose(common_transforms)\n",
    ")"
   ]
  },
  {
   "cell_type": "code",
   "execution_count": 19,
   "id": "2a575753-ae08-4cad-8193-0da6e262b991",
   "metadata": {
    "tags": []
   },
   "outputs": [
    {
     "name": "stdout",
     "output_type": "stream",
     "text": [
      "Test Loss: 3.6656, Test Accuracy: 14.08%\n"
     ]
    }
   ],
   "source": [
    "print ('Test Loss: {:.4f}, Test Accuracy: {:.2f}%'.format(test_loss, 100 * test_accuracy))"
   ]
  },
  {
   "cell_type": "code",
   "execution_count": null,
   "id": "53ac861f-d76f-402f-af42-6d47bd1f85b6",
   "metadata": {},
   "outputs": [],
   "source": []
  },
  {
   "cell_type": "markdown",
   "id": "f2fcdea0-8b3c-40a3-94e5-0f93d76968ee",
   "metadata": {
    "tags": []
   },
   "source": [
    "## Examining the Network"
   ]
  },
  {
   "cell_type": "code",
   "execution_count": 1,
   "id": "3aad3a94-253c-4c86-944b-6936a0ee7905",
   "metadata": {},
   "outputs": [
    {
     "name": "stdout",
     "output_type": "stream",
     "text": [
      "Files already downloaded and verified\n",
      "Files already downloaded and verified\n"
     ]
    }
   ],
   "source": [
    "from src.data import get_data_loaders\n",
    "data_loaders = get_data_loaders(data_dir=\"./data\", batch_size=32)"
   ]
  },
  {
   "cell_type": "code",
   "execution_count": 9,
   "id": "bf78f05e-b0e0-4fd7-bd76-c494c9b4cb07",
   "metadata": {
    "tags": []
   },
   "outputs": [],
   "source": [
    "# Get a batch of data\n",
    "X, y = next(iter(data_loaders[\"train\"]))"
   ]
  },
  {
   "cell_type": "code",
   "execution_count": 10,
   "id": "2e91fa32-b55e-400d-84bd-65fb2e9954a3",
   "metadata": {
    "tags": []
   },
   "outputs": [],
   "source": [
    "vgg16 = VGG16()"
   ]
  },
  {
   "cell_type": "code",
   "execution_count": 22,
   "id": "09c4c86b-b90d-4605-9a14-49dda21f62dd",
   "metadata": {},
   "outputs": [
    {
     "data": {
      "text/plain": [
       "VGG16(\n",
       "  (model): Sequential(\n",
       "    (layer1): Sequential(\n",
       "      (conv_block): Sequential(\n",
       "        (conv): Conv2d(3, 64, kernel_size=(3, 3), stride=(1, 1), padding=(1, 1))\n",
       "        (batch_norm): BatchNorm2d(64, eps=1e-05, momentum=0.1, affine=True, track_running_stats=True)\n",
       "        (relu): ReLU()\n",
       "      )\n",
       "    )\n",
       "    (layer2): Sequential(\n",
       "      (conv_block): Sequential(\n",
       "        (conv): Conv2d(64, 64, kernel_size=(3, 3), stride=(1, 1), padding=(1, 1))\n",
       "        (batch_norm): BatchNorm2d(64, eps=1e-05, momentum=0.1, affine=True, track_running_stats=True)\n",
       "        (relu): ReLU()\n",
       "      )\n",
       "      (max_pool): MaxPool2d(kernel_size=2, stride=2, padding=0, dilation=1, ceil_mode=False)\n",
       "    )\n",
       "    (layer3): Sequential(\n",
       "      (conv_block): Sequential(\n",
       "        (conv): Conv2d(64, 128, kernel_size=(3, 3), stride=(1, 1), padding=(1, 1))\n",
       "        (batch_norm): BatchNorm2d(128, eps=1e-05, momentum=0.1, affine=True, track_running_stats=True)\n",
       "        (relu): ReLU()\n",
       "      )\n",
       "    )\n",
       "    (layer4): Sequential(\n",
       "      (conv_block): Sequential(\n",
       "        (conv): Conv2d(128, 128, kernel_size=(3, 3), stride=(1, 1), padding=(1, 1))\n",
       "        (batch_norm): BatchNorm2d(128, eps=1e-05, momentum=0.1, affine=True, track_running_stats=True)\n",
       "        (relu): ReLU()\n",
       "      )\n",
       "      (max_pool): MaxPool2d(kernel_size=2, stride=2, padding=0, dilation=1, ceil_mode=False)\n",
       "    )\n",
       "    (layer5): Sequential(\n",
       "      (conv_block): Sequential(\n",
       "        (conv): Conv2d(128, 256, kernel_size=(3, 3), stride=(1, 1), padding=(1, 1))\n",
       "        (batch_norm): BatchNorm2d(256, eps=1e-05, momentum=0.1, affine=True, track_running_stats=True)\n",
       "        (relu): ReLU()\n",
       "      )\n",
       "    )\n",
       "    (layer6): Sequential(\n",
       "      (conv_block): Sequential(\n",
       "        (conv): Conv2d(256, 256, kernel_size=(3, 3), stride=(1, 1), padding=(1, 1))\n",
       "        (batch_norm): BatchNorm2d(256, eps=1e-05, momentum=0.1, affine=True, track_running_stats=True)\n",
       "        (relu): ReLU()\n",
       "      )\n",
       "    )\n",
       "    (layer7): Sequential(\n",
       "      (conv_block): Sequential(\n",
       "        (conv): Conv2d(256, 256, kernel_size=(3, 3), stride=(1, 1), padding=(1, 1))\n",
       "        (batch_norm): BatchNorm2d(256, eps=1e-05, momentum=0.1, affine=True, track_running_stats=True)\n",
       "        (relu): ReLU()\n",
       "      )\n",
       "      (max_pool): MaxPool2d(kernel_size=2, stride=2, padding=0, dilation=1, ceil_mode=False)\n",
       "    )\n",
       "    (layer8): Sequential(\n",
       "      (conv_block): Sequential(\n",
       "        (conv): Conv2d(256, 512, kernel_size=(3, 3), stride=(1, 1), padding=(1, 1))\n",
       "        (batch_norm): BatchNorm2d(512, eps=1e-05, momentum=0.1, affine=True, track_running_stats=True)\n",
       "        (relu): ReLU()\n",
       "      )\n",
       "    )\n",
       "    (layer9): Sequential(\n",
       "      (conv_block): Sequential(\n",
       "        (conv): Conv2d(512, 512, kernel_size=(3, 3), stride=(1, 1), padding=(1, 1))\n",
       "        (batch_norm): BatchNorm2d(512, eps=1e-05, momentum=0.1, affine=True, track_running_stats=True)\n",
       "        (relu): ReLU()\n",
       "      )\n",
       "    )\n",
       "    (layer10): Sequential(\n",
       "      (conv_block): Sequential(\n",
       "        (conv): Conv2d(512, 512, kernel_size=(3, 3), stride=(1, 1), padding=(1, 1))\n",
       "        (batch_norm): BatchNorm2d(512, eps=1e-05, momentum=0.1, affine=True, track_running_stats=True)\n",
       "        (relu): ReLU()\n",
       "      )\n",
       "      (max_pool): MaxPool2d(kernel_size=2, stride=2, padding=0, dilation=1, ceil_mode=False)\n",
       "    )\n",
       "    (layer11): Sequential(\n",
       "      (conv_block): Sequential(\n",
       "        (conv): Conv2d(512, 512, kernel_size=(3, 3), stride=(1, 1), padding=(1, 1))\n",
       "        (batch_norm): BatchNorm2d(512, eps=1e-05, momentum=0.1, affine=True, track_running_stats=True)\n",
       "        (relu): ReLU()\n",
       "      )\n",
       "    )\n",
       "    (layer12): Sequential(\n",
       "      (conv_block): Sequential(\n",
       "        (conv): Conv2d(512, 512, kernel_size=(3, 3), stride=(1, 1), padding=(1, 1))\n",
       "        (batch_norm): BatchNorm2d(512, eps=1e-05, momentum=0.1, affine=True, track_running_stats=True)\n",
       "        (relu): ReLU()\n",
       "      )\n",
       "    )\n",
       "    (layer13): Sequential(\n",
       "      (conv_block): Sequential(\n",
       "        (conv): Conv2d(512, 512, kernel_size=(3, 3), stride=(1, 1), padding=(1, 1))\n",
       "        (batch_norm): BatchNorm2d(512, eps=1e-05, momentum=0.1, affine=True, track_running_stats=True)\n",
       "        (relu): ReLU()\n",
       "      )\n",
       "      (max_pool): MaxPool2d(kernel_size=2, stride=2, padding=0, dilation=1, ceil_mode=False)\n",
       "    )\n",
       "    (flatten): Flatten(start_dim=1, end_dim=-1)\n",
       "    (fc1): Sequential(\n",
       "      (dropout): Dropout(p=0.5, inplace=False)\n",
       "      (linear): Linear(in_features=25088, out_features=4096, bias=True)\n",
       "      (relu): ReLU()\n",
       "    )\n",
       "    (fc2): Sequential(\n",
       "      (dropout): Dropout(p=0.5, inplace=False)\n",
       "      (linear): Linear(in_features=4096, out_features=4096, bias=True)\n",
       "      (relu): ReLU()\n",
       "    )\n",
       "    (fc3): Sequential(\n",
       "      (linear): Linear(in_features=4096, out_features=10, bias=True)\n",
       "    )\n",
       "  )\n",
       ")"
      ]
     },
     "execution_count": 22,
     "metadata": {},
     "output_type": "execute_result"
    }
   ],
   "source": [
    "vgg16"
   ]
  },
  {
   "cell_type": "code",
   "execution_count": 23,
   "id": "72672278-5982-4d59-84a3-d1a45811decc",
   "metadata": {},
   "outputs": [],
   "source": [
    "layers_lst = list()\n",
    "def get_children(layer, level=0):\n",
    "    global layers_lst\n",
    "    named_children = list(layer.named_children())\n",
    "    for name, child in named_children:\n",
    "        is_leaf_node = len(list(child.named_children())) == 0\n",
    "        layers_lst.append({\"name\": name, \"layer\": child, \"level\": level, \"is_leaf_node\": is_leaf_node})\n",
    "        get_children(child, level+1)"
   ]
  },
  {
   "cell_type": "code",
   "execution_count": 24,
   "id": "bee142ef-a5f7-48aa-a39d-88d560b5119b",
   "metadata": {},
   "outputs": [],
   "source": [
    "get_children(vgg16.model)"
   ]
  },
  {
   "cell_type": "code",
   "execution_count": 25,
   "id": "466fa523-be50-4147-b634-d382999e5baa",
   "metadata": {
    "tags": []
   },
   "outputs": [
    {
     "name": "stdout",
     "output_type": "stream",
     "text": [
      "(layer1),      \n",
      "\t(conv_block),  \n",
      "\t\t(conv),        , Output shape: [32, 64, 224, 224]\n",
      "\t\t(batch_norm),  , Output shape: [32, 64, 224, 224]\n",
      "\t\t(relu),        , Output shape: [32, 64, 224, 224]\n",
      "(layer2),      \n",
      "\t(conv_block),  \n",
      "\t\t(conv),        , Output shape: [32, 64, 224, 224]\n",
      "\t\t(batch_norm),  , Output shape: [32, 64, 224, 224]\n",
      "\t\t(relu),        , Output shape: [32, 64, 224, 224]\n",
      "\t(max_pool),    , Output shape: [32, 64, 112, 112]\n",
      "(layer3),      \n",
      "\t(conv_block),  \n",
      "\t\t(conv),        , Output shape: [32, 128, 112, 112]\n",
      "\t\t(batch_norm),  , Output shape: [32, 128, 112, 112]\n",
      "\t\t(relu),        , Output shape: [32, 128, 112, 112]\n",
      "(layer4),      \n",
      "\t(conv_block),  \n",
      "\t\t(conv),        , Output shape: [32, 128, 112, 112]\n",
      "\t\t(batch_norm),  , Output shape: [32, 128, 112, 112]\n",
      "\t\t(relu),        , Output shape: [32, 128, 112, 112]\n",
      "\t(max_pool),    , Output shape: [32, 128, 56, 56]\n",
      "(layer5),      \n",
      "\t(conv_block),  \n",
      "\t\t(conv),        , Output shape: [32, 256, 56, 56]\n",
      "\t\t(batch_norm),  , Output shape: [32, 256, 56, 56]\n",
      "\t\t(relu),        , Output shape: [32, 256, 56, 56]\n",
      "(layer6),      \n",
      "\t(conv_block),  \n",
      "\t\t(conv),        , Output shape: [32, 256, 56, 56]\n",
      "\t\t(batch_norm),  , Output shape: [32, 256, 56, 56]\n",
      "\t\t(relu),        , Output shape: [32, 256, 56, 56]\n",
      "(layer7),      \n",
      "\t(conv_block),  \n",
      "\t\t(conv),        , Output shape: [32, 256, 56, 56]\n",
      "\t\t(batch_norm),  , Output shape: [32, 256, 56, 56]\n",
      "\t\t(relu),        , Output shape: [32, 256, 56, 56]\n",
      "\t(max_pool),    , Output shape: [32, 256, 28, 28]\n",
      "(layer8),      \n",
      "\t(conv_block),  \n",
      "\t\t(conv),        , Output shape: [32, 512, 28, 28]\n",
      "\t\t(batch_norm),  , Output shape: [32, 512, 28, 28]\n",
      "\t\t(relu),        , Output shape: [32, 512, 28, 28]\n",
      "(layer9),      \n",
      "\t(conv_block),  \n",
      "\t\t(conv),        , Output shape: [32, 512, 28, 28]\n",
      "\t\t(batch_norm),  , Output shape: [32, 512, 28, 28]\n",
      "\t\t(relu),        , Output shape: [32, 512, 28, 28]\n",
      "(layer10),     \n",
      "\t(conv_block),  \n",
      "\t\t(conv),        , Output shape: [32, 512, 28, 28]\n",
      "\t\t(batch_norm),  , Output shape: [32, 512, 28, 28]\n",
      "\t\t(relu),        , Output shape: [32, 512, 28, 28]\n",
      "\t(max_pool),    , Output shape: [32, 512, 14, 14]\n",
      "(layer11),     \n",
      "\t(conv_block),  \n",
      "\t\t(conv),        , Output shape: [32, 512, 14, 14]\n",
      "\t\t(batch_norm),  , Output shape: [32, 512, 14, 14]\n",
      "\t\t(relu),        , Output shape: [32, 512, 14, 14]\n",
      "(layer12),     \n",
      "\t(conv_block),  \n",
      "\t\t(conv),        , Output shape: [32, 512, 14, 14]\n",
      "\t\t(batch_norm),  , Output shape: [32, 512, 14, 14]\n",
      "\t\t(relu),        , Output shape: [32, 512, 14, 14]\n",
      "(layer13),     \n",
      "\t(conv_block),  \n",
      "\t\t(conv),        , Output shape: [32, 512, 14, 14]\n",
      "\t\t(batch_norm),  , Output shape: [32, 512, 14, 14]\n",
      "\t\t(relu),        , Output shape: [32, 512, 14, 14]\n",
      "\t(max_pool),    , Output shape: [32, 512, 7, 7]\n",
      "(flatten),     , Output shape: [32, 25088]\n",
      "(fc1),         \n",
      "\t(dropout),     , Output shape: [32, 25088]\n",
      "\t(linear),      , Output shape: [32, 4096]\n",
      "\t(relu),        , Output shape: [32, 4096]\n",
      "(fc2),         \n",
      "\t(dropout),     , Output shape: [32, 4096]\n",
      "\t(linear),      , Output shape: [32, 4096]\n",
      "\t(relu),        , Output shape: [32, 4096]\n",
      "(fc3),         \n",
      "\t(linear),      , Output shape: [32, 10]\n"
     ]
    }
   ],
   "source": [
    "out = X\n",
    "for layer in layers_lst:\n",
    "    print_message = layer[\"level\"] * \"\\t\" + \"{0:15s}\".format(\"(\" + layer[\"name\"]+ \"),\")\n",
    "    if layer[\"is_leaf_node\"]:\n",
    "        out = layer[\"layer\"](out)\n",
    "        print_message += f\", Output shape: {list(out.shape)}\"\n",
    "    print(print_message)"
   ]
  },
  {
   "cell_type": "code",
   "execution_count": 16,
   "id": "6e62ac86-691f-48c1-b362-05ce5acbe5f4",
   "metadata": {
    "tags": []
   },
   "outputs": [
    {
     "data": {
      "text/plain": [
       "134309962"
      ]
     },
     "execution_count": 16,
     "metadata": {},
     "output_type": "execute_result"
    }
   ],
   "source": [
    "# Model complexity - calculating the total number of parameters\n",
    "trainable_params = sum(p.numel() for p in vgg16.parameters() if p.requires_grad)\n",
    "trainable_params"
   ]
  },
  {
   "cell_type": "markdown",
   "id": "c011c2c3-94c6-46c5-9c45-46d07f9514a6",
   "metadata": {},
   "source": [
    "### Viparameterslize your network"
   ]
  },
  {
   "cell_type": "markdown",
   "id": "97cfd1e4-04d4-4784-9e12-3c6362370263",
   "metadata": {},
   "source": [
    "You can visualize the architecture using netron.app. Execute following cell to create `resnet18_network.pt` file. Then, go to [Netron.app](https://netron.app/) and click on Open Model, and select the file that was generated."
   ]
  },
  {
   "cell_type": "code",
   "execution_count": null,
   "id": "fa029de2-f2af-4dcc-ab2e-612432d349cd",
   "metadata": {},
   "outputs": [],
   "source": [
    "scripted = torch.jit.trace(vgg16, X)"
   ]
  },
  {
   "cell_type": "code",
   "execution_count": null,
   "id": "5d79fcea-b6d4-4bcc-8fbc-b87534e855cd",
   "metadata": {},
   "outputs": [],
   "source": [
    "torch.jit.save(scripted, \"visualization/vgg16_network.pt\")"
   ]
  },
  {
   "cell_type": "markdown",
   "id": "5b2cced1-8e05-4ec2-acb2-8fd3152c626c",
   "metadata": {},
   "source": [
    "### Visualize The Computation Graph"
   ]
  },
  {
   "cell_type": "code",
   "execution_count": null,
   "id": "bbae30e4-d2e2-47ad-8e7b-268508cb9032",
   "metadata": {},
   "outputs": [],
   "source": [
    "from torchviz import make_dot"
   ]
  },
  {
   "cell_type": "code",
   "execution_count": null,
   "id": "8ce5faf2-9bde-4e21-9bdb-d1d335d7080e",
   "metadata": {},
   "outputs": [],
   "source": [
    "criterion = nn.CrossEntropyLoss()"
   ]
  },
  {
   "cell_type": "code",
   "execution_count": null,
   "id": "b5f03fc1-23f8-4c1b-a058-68fb25ec2419",
   "metadata": {},
   "outputs": [],
   "source": [
    "A = vgg16(X)"
   ]
  },
  {
   "cell_type": "code",
   "execution_count": null,
   "id": "0992dfb1-8ef1-45d2-aa56-449eb946b331",
   "metadata": {},
   "outputs": [],
   "source": [
    "loss = criterion(A, y)"
   ]
  },
  {
   "cell_type": "code",
   "execution_count": null,
   "id": "02112c9b-0235-4a59-b4e6-db9601c1bca3",
   "metadata": {},
   "outputs": [],
   "source": [
    "make_dot(\n",
    "    loss, \n",
    "    params=dict(list(vgg16.named_parameters())), \n",
    "    show_attrs=True, \n",
    "    show_saved=True\n",
    ").render(\"visualization/vgg16_model\", format=\"svg\")"
   ]
  },
  {
   "cell_type": "code",
   "execution_count": null,
   "id": "3dccf17f-39bb-4169-ae07-355a2dee2213",
   "metadata": {},
   "outputs": [],
   "source": []
  }
 ],
 "metadata": {
  "kernelspec": {
   "display_name": "Python 3 (ipykernel)",
   "language": "python",
   "name": "python3"
  },
  "language_info": {
   "codemirror_mode": {
    "name": "ipython",
    "version": 3
   },
   "file_extension": ".py",
   "mimetype": "text/x-python",
   "name": "python",
   "nbconvert_exporter": "python",
   "pygments_lexer": "ipython3",
   "version": "3.7.6"
  }
 },
 "nbformat": 4,
 "nbformat_minor": 5
}
