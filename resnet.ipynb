{
 "cells": [
  {
   "cell_type": "markdown",
   "id": "e0781f46-4b47-45b3-aefa-7a34509607fe",
   "metadata": {},
   "source": [
    "# ResNet from Scratch in PyTorch"
   ]
  },
  {
   "cell_type": "code",
   "execution_count": 1,
   "id": "ca85c9fe-f092-4799-9879-b06357e585ec",
   "metadata": {},
   "outputs": [],
   "source": [
    "import numpy as np\n",
    "import torch\n",
    "import torch.nn as nn\n",
    "from torchvision import transforms\n",
    "\n",
    "from collections import OrderedDict\n",
    "import os\n",
    "import multiprocessing"
   ]
  },
  {
   "cell_type": "code",
   "execution_count": 2,
   "id": "656ea11c-f068-46b2-a6ae-0cc5b08ded3a",
   "metadata": {
    "tags": []
   },
   "outputs": [],
   "source": [
    "#!pip install -r requirements.txt"
   ]
  },
  {
   "cell_type": "code",
   "execution_count": 3,
   "id": "531681ad-5d6c-48db-ad83-e26f66f70963",
   "metadata": {},
   "outputs": [],
   "source": [
    "%load_ext autoreload\n",
    "%autoreload 2"
   ]
  },
  {
   "cell_type": "code",
   "execution_count": 4,
   "id": "f24dd2ab-c55a-49bf-aea6-3422326107c7",
   "metadata": {},
   "outputs": [
    {
     "name": "stdout",
     "output_type": "stream",
     "text": [
      "GPU Model:  NVIDIA GeForce RTX 3070 Laptop GPU\n",
      "CPU model name\t: 12th Gen Intel(R) Core(TM) i7-12650H\n",
      "CPU Count:  16\n"
     ]
    }
   ],
   "source": [
    "# Print the type of the GPU used\n",
    "print(\"GPU Model: \", torch.cuda.get_device_name(0))\n",
    "\n",
    "# Print CPU Information\n",
    "print(\"CPU \", end='')\n",
    "os.system(\"cat /proc/cpuinfo | grep 'model name' | uniq\");\n",
    "print(\"CPU Count: \", multiprocessing.cpu_count())"
   ]
  },
  {
   "cell_type": "code",
   "execution_count": 5,
   "id": "5b25d02e-b0a5-44c9-bf34-c21612e8f5b2",
   "metadata": {
    "tags": []
   },
   "outputs": [
    {
     "data": {
      "text/plain": [
       "device(type='cuda')"
      ]
     },
     "execution_count": 5,
     "metadata": {},
     "output_type": "execute_result"
    }
   ],
   "source": [
    "# Device configuration\n",
    "device = torch.device(\"cuda\" if torch.cuda.is_available() else \"cpu\")\n",
    "device"
   ]
  },
  {
   "cell_type": "markdown",
   "id": "02a75d6c-2cff-406a-8a69-f7fad48d378c",
   "metadata": {},
   "source": [
    "## ResNet Architecture Definition"
   ]
  },
  {
   "cell_type": "code",
   "execution_count": 6,
   "id": "33aaa890-5d92-44e7-b94f-1d38d9edb77e",
   "metadata": {
    "tags": []
   },
   "outputs": [],
   "source": [
    "from src.custom_layers import ResidualBlock, get_conv_layer, get_fc_layer"
   ]
  },
  {
   "cell_type": "code",
   "execution_count": 7,
   "id": "2e0de4be-b1ad-4c93-b70f-96f210c38438",
   "metadata": {
    "tags": []
   },
   "outputs": [],
   "source": [
    "class ResNet(nn.Module):\n",
    "    def __init__(self, res_block_layers, num_classes = 10):\n",
    "        super(ResNet, self).__init__()\n",
    "        layers = OrderedDict([\n",
    "                (\"conv_layer\", get_conv_layer(3, res_block_layers[0]['out_channels'] , kernel_size=7, stride=2, padding=3))\n",
    "            ]\n",
    "        )\n",
    "        layers[\"max_pool\"] = nn.MaxPool2d(kernel_size = 3, stride = 2, padding = 1)\n",
    "        in_channels = res_block_layers[0]['out_channels']\n",
    "        for i, layer in enumerate(res_block_layers):\n",
    "            layers[f\"res_layer_{i}\"] = OrderedDict()\n",
    "            res_blocks = OrderedDict()\n",
    "            res_blocks[\"res_block_0\"] = ResidualBlock(in_channels, layer['out_channels'], stride=layer['stride'])\n",
    "            in_channels = layer[\"out_channels\"]\n",
    "            for j in range(1, layer[\"num_blocks\"]):\n",
    "                res_blocks[f\"res_block_{j}\"] = ResidualBlock(in_channels, layer['out_channels'], stride=1)\n",
    "\n",
    "            layers[f\"res_layer_{i}\"] = nn.Sequential(res_blocks)\n",
    "            \n",
    "        layers['avgpool'] = nn.AvgPool2d(7, stride=1)\n",
    "        layers['flatten'] = nn.Flatten()\n",
    "        layers['fc'] = nn.Linear(in_channels, num_classes)\n",
    "        \n",
    "        self.model = nn.Sequential(layers)\n",
    "    \n",
    "    def forward(self, x):\n",
    "        return self.model(x)"
   ]
  },
  {
   "cell_type": "markdown",
   "id": "9a7a24b8-0504-4fb9-a53c-bb2d0d444113",
   "metadata": {},
   "source": [
    "## Training"
   ]
  },
  {
   "cell_type": "code",
   "execution_count": 7,
   "id": "ad519beb-4a60-445f-9b49-130f6abc7ce6",
   "metadata": {},
   "outputs": [],
   "source": [
    "num_classes = 10\n",
    "num_epochs = 10\n",
    "batch_size = 128\n",
    "learning_rate = 0.01\n",
    "\n",
    "model_save_path = \"checkpoints/best_resnet18_model.pt\""
   ]
  },
  {
   "cell_type": "code",
   "execution_count": 8,
   "id": "ca31b9c0-79cd-4fbd-bfbc-82be27e60802",
   "metadata": {},
   "outputs": [
    {
     "name": "stdout",
     "output_type": "stream",
     "text": [
      "Files already downloaded and verified\n",
      "Files already downloaded and verified\n"
     ]
    }
   ],
   "source": [
    "from src.data import get_data_loaders\n",
    "\n",
    "gpu_kwargs = {\n",
    "    \"persistent_workers\": True, \n",
    "    \"pin_memory\": True, \n",
    "    \"pin_memory_device\": 'cuda:0', \n",
    "    \"prefetch_factor\": 8\n",
    "}\n",
    "\n",
    "data_loaders = get_data_loaders(\n",
    "                                data_dir=\"./data\", \n",
    "                                batch_size=batch_size, \n",
    "                                subset_fraction=1, # Modify this value to include fractions of the dataset. Setting it to 1 will use the whole dataset.\n",
    "                                num_workers=multiprocessing.cpu_count(), \n",
    "                                **gpu_kwargs\n",
    "                               )\n"
   ]
  },
  {
   "cell_type": "code",
   "execution_count": 9,
   "id": "5fbe7613-8bb4-4cb3-8be1-e32271ac027e",
   "metadata": {},
   "outputs": [],
   "source": [
    "res_block_layers = [\n",
    "    {\"num_blocks\": 3, \"out_channels\": 64, \"stride\": 1},\n",
    "    {\"num_blocks\": 4, \"out_channels\": 128 , \"stride\": 2},\n",
    "    {\"num_blocks\": 6, \"out_channels\": 256, \"stride\": 2},\n",
    "    {\"num_blocks\": 3, \"out_channels\": 512, \"stride\": 2},\n",
    "]\n",
    "\n",
    "model = ResNet(res_block_layers, num_classes=num_classes).to(device)\n",
    "\n",
    "if os.path.exists(model_save_path):\n",
    "    model.load_state_dict(torch.load(model_save_path))"
   ]
  },
  {
   "cell_type": "code",
   "execution_count": 10,
   "id": "737fec0a-9d60-4c35-8b94-3aecffc526a0",
   "metadata": {},
   "outputs": [],
   "source": [
    "# Loss and optimizer\n",
    "criterion = nn.CrossEntropyLoss()\n",
    "optimizer = torch.optim.SGD(model.parameters(), lr=learning_rate, weight_decay = 0.001, momentum = 0.9)  "
   ]
  },
  {
   "cell_type": "code",
   "execution_count": 11,
   "id": "46345d12-19aa-422a-b3c6-bf7af0a6b05f",
   "metadata": {},
   "outputs": [],
   "source": [
    "common_transforms = [\n",
    "        transforms.Normalize(mean=[0.4914, 0.4822, 0.4465], std=[0.2023, 0.1994, 0.2010])\n",
    "]\n",
    "\n",
    "# # Other data augmentation to try for the training dataset\n",
    "# train_transforms = [\n",
    "#                 transforms.RandomAffine(scale=(0.9, 1.1), translate=(0.1, 0.1), degrees=10, fill=0, interpolation=transforms.InterpolationMode.BILINEAR),\n",
    "#                 transforms.ColorJitter(brightness=0.5, contrast=0.5, saturation=0.5, hue=0.5),\n",
    "#                 transforms.RandomHorizontalFlip(0.5),\n",
    "#             ]"
   ]
  },
  {
   "cell_type": "code",
   "execution_count": 12,
   "id": "10ae92a7-2c39-4a44-bdbf-5172ae94ceb4",
   "metadata": {
    "tags": []
   },
   "outputs": [],
   "source": [
    "transformations = {\n",
    "    \"train\": common_transforms, # + train_transforms\n",
    "    \"valid\": common_transforms,\n",
    "    \"test\": common_transforms\n",
    "}"
   ]
  },
  {
   "cell_type": "code",
   "execution_count": 14,
   "id": "eb97b9e6-73ca-4010-bd23-cec16cc2ac5e",
   "metadata": {
    "tags": []
   },
   "outputs": [],
   "source": [
    "from src.train import training_loop"
   ]
  },
  {
   "cell_type": "code",
   "execution_count": 15,
   "id": "8bc2b344-3a82-42a7-81f9-cb78c61ed8b2",
   "metadata": {
    "tags": []
   },
   "outputs": [
    {
     "data": {
      "image/png": "[encoded data removed]",
      "text/plain": [
       "<Figure size 1200x800 with 2 Axes>"
      ]
     },
     "metadata": {},
     "output_type": "display_data"
    },
    {
     "name": "stdout",
     "output_type": "stream",
     "text": [
      "Epoch [10/10], Training Loss: 0.4180, Validation Loss: 3.0134, Validation Accuracy: 40.10%\n"
     ]
    }
   ],
   "source": [
    "training_loop(model, device, data_loaders, optimizer, criterion, num_epochs, model_save_path, transformations)"
   ]
  },
  {
   "cell_type": "markdown",
   "id": "70d3ec5e-7460-4073-9327-745e05d3719a",
   "metadata": {
    "tags": []
   },
   "source": [
    "## Testing Your Model"
   ]
  },
  {
   "cell_type": "code",
   "execution_count": 14,
   "id": "7d1af7ed-be5d-49c7-b3b9-72c55bbf4ec4",
   "metadata": {},
   "outputs": [],
   "source": [
    "from src.train import test_one_epoch"
   ]
  },
  {
   "cell_type": "code",
   "execution_count": 16,
   "id": "bf77c99b-628e-48a1-bffa-6a8900447884",
   "metadata": {
    "tags": []
   },
   "outputs": [
    {
     "name": "stderr",
     "output_type": "stream",
     "text": [
      "Testing: 100%|██████████████████████████████████| 79/79 [01:08<00:00,  1.16it/s]"
     ]
    },
    {
     "name": "stdout",
     "output_type": "stream",
     "text": [
      "Test Loss: 1.7833, Test Accuracy: 36.02%\n"
     ]
    },
    {
     "name": "stderr",
     "output_type": "stream",
     "text": [
      "\n"
     ]
    }
   ],
   "source": [
    "# Load best weights\n",
    "if os.path.exists(model_save_path):\n",
    "    model.load_state_dict(torch.load(model_save_path))\n",
    "    \n",
    "test_loss, test_accuracy = test_one_epoch(\n",
    "    model, \n",
    "    device, data_loaders[\"test\"], \n",
    "    optimizer, \n",
    "    criterion, \n",
    "    description=\"Testing\", \n",
    "    transformations=transforms.Compose(common_transforms)\n",
    ")\n",
    "\n",
    "print ('Test Loss: {:.4f}, Test Accuracy: {:.2f}%'.format(test_loss, 100 * test_accuracy))"
   ]
  },
  {
   "cell_type": "markdown",
   "id": "f2fcdea0-8b3c-40a3-94e5-0f93d76968ee",
   "metadata": {
    "tags": []
   },
   "source": [
    "## Examining the Network"
   ]
  },
  {
   "cell_type": "code",
   "execution_count": 8,
   "id": "3aad3a94-253c-4c86-944b-6936a0ee7905",
   "metadata": {},
   "outputs": [
    {
     "name": "stdout",
     "output_type": "stream",
     "text": [
      "Files already downloaded and verified\n",
      "Files already downloaded and verified\n"
     ]
    }
   ],
   "source": [
    "from src.data import get_data_loaders\n",
    "data_loaders = get_data_loaders(data_dir=\"./data\", batch_size=32)"
   ]
  },
  {
   "cell_type": "code",
   "execution_count": 9,
   "id": "bf78f05e-b0e0-4fd7-bd76-c494c9b4cb07",
   "metadata": {
    "tags": []
   },
   "outputs": [],
   "source": [
    "# Get a batch of data\n",
    "X, y = next(iter(data_loaders[\"train\"]))"
   ]
  },
  {
   "cell_type": "code",
   "execution_count": 10,
   "id": "2e91fa32-b55e-400d-84bd-65fb2e9954a3",
   "metadata": {
    "tags": []
   },
   "outputs": [],
   "source": [
    "res_block_layers = [\n",
    "    {\"num_blocks\": 3, \"out_channels\": 64, \"stride\": 1},\n",
    "    {\"num_blocks\": 4, \"out_channels\": 128 , \"stride\": 2},\n",
    "    {\"num_blocks\": 6, \"out_channels\": 256, \"stride\": 2},\n",
    "    {\"num_blocks\": 3, \"out_channels\": 512, \"stride\": 2},\n",
    "]\n",
    "\n",
    "resnet18 = ResNet(res_block_layers)"
   ]
  },
  {
   "cell_type": "code",
   "execution_count": 12,
   "id": "09c4c86b-b90d-4605-9a14-49dda21f62dd",
   "metadata": {},
   "outputs": [
    {
     "data": {
      "text/plain": [
       "ResNet(\n",
       "  (model): Sequential(\n",
       "    (conv_layer): Sequential(\n",
       "      (conv_block): Sequential(\n",
       "        (conv): Conv2d(3, 64, kernel_size=(7, 7), stride=(2, 2), padding=(3, 3))\n",
       "        (batch_norm): BatchNorm2d(64, eps=1e-05, momentum=0.1, affine=True, track_running_stats=True)\n",
       "        (relu): ReLU()\n",
       "      )\n",
       "    )\n",
       "    (max_pool): MaxPool2d(kernel_size=3, stride=2, padding=1, dilation=1, ceil_mode=False)\n",
       "    (res_layer_0): Sequential(\n",
       "      (res_block_0): ResidualBlock(\n",
       "        (conv_block): Sequential(\n",
       "          (conv1): Sequential(\n",
       "            (conv): Conv2d(64, 64, kernel_size=(3, 3), stride=(1, 1), padding=(1, 1))\n",
       "            (batch_norm): BatchNorm2d(64, eps=1e-05, momentum=0.1, affine=True, track_running_stats=True)\n",
       "            (relu): ReLU()\n",
       "          )\n",
       "          (conv2): Sequential(\n",
       "            (conv): Conv2d(64, 64, kernel_size=(3, 3), stride=(1, 1), padding=(1, 1))\n",
       "            (batch_norm): BatchNorm2d(64, eps=1e-05, momentum=0.1, affine=True, track_running_stats=True)\n",
       "          )\n",
       "        )\n",
       "        (relu): ReLU()\n",
       "      )\n",
       "      (res_block_1): ResidualBlock(\n",
       "        (conv_block): Sequential(\n",
       "          (conv1): Sequential(\n",
       "            (conv): Conv2d(64, 64, kernel_size=(3, 3), stride=(1, 1), padding=(1, 1))\n",
       "            (batch_norm): BatchNorm2d(64, eps=1e-05, momentum=0.1, affine=True, track_running_stats=True)\n",
       "            (relu): ReLU()\n",
       "          )\n",
       "          (conv2): Sequential(\n",
       "            (conv): Conv2d(64, 64, kernel_size=(3, 3), stride=(1, 1), padding=(1, 1))\n",
       "            (batch_norm): BatchNorm2d(64, eps=1e-05, momentum=0.1, affine=True, track_running_stats=True)\n",
       "          )\n",
       "        )\n",
       "        (relu): ReLU()\n",
       "      )\n",
       "      (res_block_2): ResidualBlock(\n",
       "        (conv_block): Sequential(\n",
       "          (conv1): Sequential(\n",
       "            (conv): Conv2d(64, 64, kernel_size=(3, 3), stride=(1, 1), padding=(1, 1))\n",
       "            (batch_norm): BatchNorm2d(64, eps=1e-05, momentum=0.1, affine=True, track_running_stats=True)\n",
       "            (relu): ReLU()\n",
       "          )\n",
       "          (conv2): Sequential(\n",
       "            (conv): Conv2d(64, 64, kernel_size=(3, 3), stride=(1, 1), padding=(1, 1))\n",
       "            (batch_norm): BatchNorm2d(64, eps=1e-05, momentum=0.1, affine=True, track_running_stats=True)\n",
       "          )\n",
       "        )\n",
       "        (relu): ReLU()\n",
       "      )\n",
       "    )\n",
       "    (res_layer_1): Sequential(\n",
       "      (res_block_0): ResidualBlock(\n",
       "        (conv_block): Sequential(\n",
       "          (conv1): Sequential(\n",
       "            (conv): Conv2d(64, 128, kernel_size=(3, 3), stride=(2, 2), padding=(1, 1))\n",
       "            (batch_norm): BatchNorm2d(128, eps=1e-05, momentum=0.1, affine=True, track_running_stats=True)\n",
       "            (relu): ReLU()\n",
       "          )\n",
       "          (conv2): Sequential(\n",
       "            (conv): Conv2d(128, 128, kernel_size=(3, 3), stride=(1, 1), padding=(1, 1))\n",
       "            (batch_norm): BatchNorm2d(128, eps=1e-05, momentum=0.1, affine=True, track_running_stats=True)\n",
       "          )\n",
       "        )\n",
       "        (downsample): Sequential(\n",
       "          (downsample_conv): Conv2d(64, 128, kernel_size=(1, 1), stride=(2, 2))\n",
       "          (downsample_batch_norm): BatchNorm2d(128, eps=1e-05, momentum=0.1, affine=True, track_running_stats=True)\n",
       "        )\n",
       "        (relu): ReLU()\n",
       "      )\n",
       "      (res_block_1): ResidualBlock(\n",
       "        (conv_block): Sequential(\n",
       "          (conv1): Sequential(\n",
       "            (conv): Conv2d(128, 128, kernel_size=(3, 3), stride=(1, 1), padding=(1, 1))\n",
       "            (batch_norm): BatchNorm2d(128, eps=1e-05, momentum=0.1, affine=True, track_running_stats=True)\n",
       "            (relu): ReLU()\n",
       "          )\n",
       "          (conv2): Sequential(\n",
       "            (conv): Conv2d(128, 128, kernel_size=(3, 3), stride=(1, 1), padding=(1, 1))\n",
       "            (batch_norm): BatchNorm2d(128, eps=1e-05, momentum=0.1, affine=True, track_running_stats=True)\n",
       "          )\n",
       "        )\n",
       "        (relu): ReLU()\n",
       "      )\n",
       "      (res_block_2): ResidualBlock(\n",
       "        (conv_block): Sequential(\n",
       "          (conv1): Sequential(\n",
       "            (conv): Conv2d(128, 128, kernel_size=(3, 3), stride=(1, 1), padding=(1, 1))\n",
       "            (batch_norm): BatchNorm2d(128, eps=1e-05, momentum=0.1, affine=True, track_running_stats=True)\n",
       "            (relu): ReLU()\n",
       "          )\n",
       "          (conv2): Sequential(\n",
       "            (conv): Conv2d(128, 128, kernel_size=(3, 3), stride=(1, 1), padding=(1, 1))\n",
       "            (batch_norm): BatchNorm2d(128, eps=1e-05, momentum=0.1, affine=True, track_running_stats=True)\n",
       "          )\n",
       "        )\n",
       "        (relu): ReLU()\n",
       "      )\n",
       "      (res_block_3): ResidualBlock(\n",
       "        (conv_block): Sequential(\n",
       "          (conv1): Sequential(\n",
       "            (conv): Conv2d(128, 128, kernel_size=(3, 3), stride=(1, 1), padding=(1, 1))\n",
       "            (batch_norm): BatchNorm2d(128, eps=1e-05, momentum=0.1, affine=True, track_running_stats=True)\n",
       "            (relu): ReLU()\n",
       "          )\n",
       "          (conv2): Sequential(\n",
       "            (conv): Conv2d(128, 128, kernel_size=(3, 3), stride=(1, 1), padding=(1, 1))\n",
       "            (batch_norm): BatchNorm2d(128, eps=1e-05, momentum=0.1, affine=True, track_running_stats=True)\n",
       "          )\n",
       "        )\n",
       "        (relu): ReLU()\n",
       "      )\n",
       "    )\n",
       "    (res_layer_2): Sequential(\n",
       "      (res_block_0): ResidualBlock(\n",
       "        (conv_block): Sequential(\n",
       "          (conv1): Sequential(\n",
       "            (conv): Conv2d(128, 256, kernel_size=(3, 3), stride=(2, 2), padding=(1, 1))\n",
       "            (batch_norm): BatchNorm2d(256, eps=1e-05, momentum=0.1, affine=True, track_running_stats=True)\n",
       "            (relu): ReLU()\n",
       "          )\n",
       "          (conv2): Sequential(\n",
       "            (conv): Conv2d(256, 256, kernel_size=(3, 3), stride=(1, 1), padding=(1, 1))\n",
       "            (batch_norm): BatchNorm2d(256, eps=1e-05, momentum=0.1, affine=True, track_running_stats=True)\n",
       "          )\n",
       "        )\n",
       "        (downsample): Sequential(\n",
       "          (downsample_conv): Conv2d(128, 256, kernel_size=(1, 1), stride=(2, 2))\n",
       "          (downsample_batch_norm): BatchNorm2d(256, eps=1e-05, momentum=0.1, affine=True, track_running_stats=True)\n",
       "        )\n",
       "        (relu): ReLU()\n",
       "      )\n",
       "      (res_block_1): ResidualBlock(\n",
       "        (conv_block): Sequential(\n",
       "          (conv1): Sequential(\n",
       "            (conv): Conv2d(256, 256, kernel_size=(3, 3), stride=(1, 1), padding=(1, 1))\n",
       "            (batch_norm): BatchNorm2d(256, eps=1e-05, momentum=0.1, affine=True, track_running_stats=True)\n",
       "            (relu): ReLU()\n",
       "          )\n",
       "          (conv2): Sequential(\n",
       "            (conv): Conv2d(256, 256, kernel_size=(3, 3), stride=(1, 1), padding=(1, 1))\n",
       "            (batch_norm): BatchNorm2d(256, eps=1e-05, momentum=0.1, affine=True, track_running_stats=True)\n",
       "          )\n",
       "        )\n",
       "        (relu): ReLU()\n",
       "      )\n",
       "      (res_block_2): ResidualBlock(\n",
       "        (conv_block): Sequential(\n",
       "          (conv1): Sequential(\n",
       "            (conv): Conv2d(256, 256, kernel_size=(3, 3), stride=(1, 1), padding=(1, 1))\n",
       "            (batch_norm): BatchNorm2d(256, eps=1e-05, momentum=0.1, affine=True, track_running_stats=True)\n",
       "            (relu): ReLU()\n",
       "          )\n",
       "          (conv2): Sequential(\n",
       "            (conv): Conv2d(256, 256, kernel_size=(3, 3), stride=(1, 1), padding=(1, 1))\n",
       "            (batch_norm): BatchNorm2d(256, eps=1e-05, momentum=0.1, affine=True, track_running_stats=True)\n",
       "          )\n",
       "        )\n",
       "        (relu): ReLU()\n",
       "      )\n",
       "      (res_block_3): ResidualBlock(\n",
       "        (conv_block): Sequential(\n",
       "          (conv1): Sequential(\n",
       "            (conv): Conv2d(256, 256, kernel_size=(3, 3), stride=(1, 1), padding=(1, 1))\n",
       "            (batch_norm): BatchNorm2d(256, eps=1e-05, momentum=0.1, affine=True, track_running_stats=True)\n",
       "            (relu): ReLU()\n",
       "          )\n",
       "          (conv2): Sequential(\n",
       "            (conv): Conv2d(256, 256, kernel_size=(3, 3), stride=(1, 1), padding=(1, 1))\n",
       "            (batch_norm): BatchNorm2d(256, eps=1e-05, momentum=0.1, affine=True, track_running_stats=True)\n",
       "          )\n",
       "        )\n",
       "        (relu): ReLU()\n",
       "      )\n",
       "      (res_block_4): ResidualBlock(\n",
       "        (conv_block): Sequential(\n",
       "          (conv1): Sequential(\n",
       "            (conv): Conv2d(256, 256, kernel_size=(3, 3), stride=(1, 1), padding=(1, 1))\n",
       "            (batch_norm): BatchNorm2d(256, eps=1e-05, momentum=0.1, affine=True, track_running_stats=True)\n",
       "            (relu): ReLU()\n",
       "          )\n",
       "          (conv2): Sequential(\n",
       "            (conv): Conv2d(256, 256, kernel_size=(3, 3), stride=(1, 1), padding=(1, 1))\n",
       "            (batch_norm): BatchNorm2d(256, eps=1e-05, momentum=0.1, affine=True, track_running_stats=True)\n",
       "          )\n",
       "        )\n",
       "        (relu): ReLU()\n",
       "      )\n",
       "      (res_block_5): ResidualBlock(\n",
       "        (conv_block): Sequential(\n",
       "          (conv1): Sequential(\n",
       "            (conv): Conv2d(256, 256, kernel_size=(3, 3), stride=(1, 1), padding=(1, 1))\n",
       "            (batch_norm): BatchNorm2d(256, eps=1e-05, momentum=0.1, affine=True, track_running_stats=True)\n",
       "            (relu): ReLU()\n",
       "          )\n",
       "          (conv2): Sequential(\n",
       "            (conv): Conv2d(256, 256, kernel_size=(3, 3), stride=(1, 1), padding=(1, 1))\n",
       "            (batch_norm): BatchNorm2d(256, eps=1e-05, momentum=0.1, affine=True, track_running_stats=True)\n",
       "          )\n",
       "        )\n",
       "        (relu): ReLU()\n",
       "      )\n",
       "    )\n",
       "    (res_layer_3): Sequential(\n",
       "      (res_block_0): ResidualBlock(\n",
       "        (conv_block): Sequential(\n",
       "          (conv1): Sequential(\n",
       "            (conv): Conv2d(256, 512, kernel_size=(3, 3), stride=(2, 2), padding=(1, 1))\n",
       "            (batch_norm): BatchNorm2d(512, eps=1e-05, momentum=0.1, affine=True, track_running_stats=True)\n",
       "            (relu): ReLU()\n",
       "          )\n",
       "          (conv2): Sequential(\n",
       "            (conv): Conv2d(512, 512, kernel_size=(3, 3), stride=(1, 1), padding=(1, 1))\n",
       "            (batch_norm): BatchNorm2d(512, eps=1e-05, momentum=0.1, affine=True, track_running_stats=True)\n",
       "          )\n",
       "        )\n",
       "        (downsample): Sequential(\n",
       "          (downsample_conv): Conv2d(256, 512, kernel_size=(1, 1), stride=(2, 2))\n",
       "          (downsample_batch_norm): BatchNorm2d(512, eps=1e-05, momentum=0.1, affine=True, track_running_stats=True)\n",
       "        )\n",
       "        (relu): ReLU()\n",
       "      )\n",
       "      (res_block_1): ResidualBlock(\n",
       "        (conv_block): Sequential(\n",
       "          (conv1): Sequential(\n",
       "            (conv): Conv2d(512, 512, kernel_size=(3, 3), stride=(1, 1), padding=(1, 1))\n",
       "            (batch_norm): BatchNorm2d(512, eps=1e-05, momentum=0.1, affine=True, track_running_stats=True)\n",
       "            (relu): ReLU()\n",
       "          )\n",
       "          (conv2): Sequential(\n",
       "            (conv): Conv2d(512, 512, kernel_size=(3, 3), stride=(1, 1), padding=(1, 1))\n",
       "            (batch_norm): BatchNorm2d(512, eps=1e-05, momentum=0.1, affine=True, track_running_stats=True)\n",
       "          )\n",
       "        )\n",
       "        (relu): ReLU()\n",
       "      )\n",
       "      (res_block_2): ResidualBlock(\n",
       "        (conv_block): Sequential(\n",
       "          (conv1): Sequential(\n",
       "            (conv): Conv2d(512, 512, kernel_size=(3, 3), stride=(1, 1), padding=(1, 1))\n",
       "            (batch_norm): BatchNorm2d(512, eps=1e-05, momentum=0.1, affine=True, track_running_stats=True)\n",
       "            (relu): ReLU()\n",
       "          )\n",
       "          (conv2): Sequential(\n",
       "            (conv): Conv2d(512, 512, kernel_size=(3, 3), stride=(1, 1), padding=(1, 1))\n",
       "            (batch_norm): BatchNorm2d(512, eps=1e-05, momentum=0.1, affine=True, track_running_stats=True)\n",
       "          )\n",
       "        )\n",
       "        (relu): ReLU()\n",
       "      )\n",
       "    )\n",
       "    (avgpool): AvgPool2d(kernel_size=7, stride=1, padding=0)\n",
       "    (flatten): Flatten(start_dim=1, end_dim=-1)\n",
       "    (fc): Linear(in_features=512, out_features=10, bias=True)\n",
       "  )\n",
       ")"
      ]
     },
     "execution_count": 12,
     "metadata": {},
     "output_type": "execute_result"
    }
   ],
   "source": [
    "resnet18"
   ]
  },
  {
   "cell_type": "code",
   "execution_count": 13,
   "id": "72672278-5982-4d59-84a3-d1a45811decc",
   "metadata": {},
   "outputs": [],
   "source": [
    "layers_lst = list()\n",
    "def get_children(layer, level=0):\n",
    "    global layers_lst\n",
    "    named_children = list(layer.named_children())\n",
    "    for name, child in named_children:\n",
    "        is_leaf_node = len(list(child.named_children())) == 0\n",
    "        layers_lst.append({\"name\": name, \"layer\": child, \"level\": level, \"is_leaf_node\": is_leaf_node})\n",
    "        get_children(child, level+1)"
   ]
  },
  {
   "cell_type": "code",
   "execution_count": 14,
   "id": "bee142ef-a5f7-48aa-a39d-88d560b5119b",
   "metadata": {},
   "outputs": [],
   "source": [
    "get_children(resnet18.model)"
   ]
  },
  {
   "cell_type": "code",
   "execution_count": 15,
   "id": "62f4e229-b7af-4d24-97c8-a5556a5c2d7f",
   "metadata": {},
   "outputs": [
    {
     "name": "stdout",
     "output_type": "stream",
     "text": [
      "(conv_layer),  \n",
      "\t(conv_block),  \n",
      "\t\t(conv),        Output shape: [32, 64, 112, 112]\n",
      "\t\t(batch_norm),  Output shape: [32, 64, 112, 112]\n",
      "\t\t(relu),        Output shape: [32, 64, 112, 112]\n",
      "(max_pool),    Output shape: [32, 64, 56, 56]\n",
      "(res_layer_0), \n",
      "\t(res_block_0), \n",
      "\t\t(conv_block),  \n",
      "\t\t\t(conv1),       \n",
      "\t\t\t\t(conv),        Output shape: [32, 64, 56, 56]\n",
      "\t\t\t\t(batch_norm),  Output shape: [32, 64, 56, 56]\n",
      "\t\t\t\t(relu),        Output shape: [32, 64, 56, 56]\n",
      "\t\t\t(conv2),       \n",
      "\t\t\t\t(conv),        Output shape: [32, 64, 56, 56]\n",
      "\t\t\t\t(batch_norm),  Output shape: [32, 64, 56, 56]\n",
      "\t\t(relu),        Output shape: [32, 64, 56, 56]\n",
      "\t(res_block_1), \n",
      "\t\t(conv_block),  \n",
      "\t\t\t(conv1),       \n",
      "\t\t\t\t(conv),        Output shape: [32, 64, 56, 56]\n",
      "\t\t\t\t(batch_norm),  Output shape: [32, 64, 56, 56]\n",
      "\t\t\t\t(relu),        Output shape: [32, 64, 56, 56]\n",
      "\t\t\t(conv2),       \n",
      "\t\t\t\t(conv),        Output shape: [32, 64, 56, 56]\n",
      "\t\t\t\t(batch_norm),  Output shape: [32, 64, 56, 56]\n",
      "\t\t(relu),        Output shape: [32, 64, 56, 56]\n",
      "\t(res_block_2), \n",
      "\t\t(conv_block),  \n",
      "\t\t\t(conv1),       \n",
      "\t\t\t\t(conv),        Output shape: [32, 64, 56, 56]\n",
      "\t\t\t\t(batch_norm),  Output shape: [32, 64, 56, 56]\n",
      "\t\t\t\t(relu),        Output shape: [32, 64, 56, 56]\n",
      "\t\t\t(conv2),       \n",
      "\t\t\t\t(conv),        Output shape: [32, 64, 56, 56]\n",
      "\t\t\t\t(batch_norm),  Output shape: [32, 64, 56, 56]\n",
      "\t\t(relu),        Output shape: [32, 64, 56, 56]\n",
      "(res_layer_1), \n",
      "\t(res_block_0), \n",
      "\t\t(conv_block),  \n",
      "\t\t\t(conv1),       \n",
      "\t\t\t\t(conv),        Output shape: [32, 128, 28, 28]\n",
      "\t\t\t\t(batch_norm),  Output shape: [32, 128, 28, 28]\n",
      "\t\t\t\t(relu),        Output shape: [32, 128, 28, 28]\n",
      "\t\t\t(conv2),       \n",
      "\t\t\t\t(conv),        Output shape: [32, 128, 28, 28]\n",
      "\t\t\t\t(batch_norm),  Output shape: [32, 128, 28, 28]\n",
      "\t\t(downsample),  \n",
      "\t\t\t(downsample_conv),\n",
      "\t\t\t(downsample_batch_norm),\n",
      "\t\t(relu),        Output shape: [32, 128, 28, 28]\n",
      "\t(res_block_1), \n",
      "\t\t(conv_block),  \n",
      "\t\t\t(conv1),       \n",
      "\t\t\t\t(conv),        Output shape: [32, 128, 28, 28]\n",
      "\t\t\t\t(batch_norm),  Output shape: [32, 128, 28, 28]\n",
      "\t\t\t\t(relu),        Output shape: [32, 128, 28, 28]\n",
      "\t\t\t(conv2),       \n",
      "\t\t\t\t(conv),        Output shape: [32, 128, 28, 28]\n",
      "\t\t\t\t(batch_norm),  Output shape: [32, 128, 28, 28]\n",
      "\t\t(relu),        Output shape: [32, 128, 28, 28]\n",
      "\t(res_block_2), \n",
      "\t\t(conv_block),  \n",
      "\t\t\t(conv1),       \n",
      "\t\t\t\t(conv),        Output shape: [32, 128, 28, 28]\n",
      "\t\t\t\t(batch_norm),  Output shape: [32, 128, 28, 28]\n",
      "\t\t\t\t(relu),        Output shape: [32, 128, 28, 28]\n",
      "\t\t\t(conv2),       \n",
      "\t\t\t\t(conv),        Output shape: [32, 128, 28, 28]\n",
      "\t\t\t\t(batch_norm),  Output shape: [32, 128, 28, 28]\n",
      "\t\t(relu),        Output shape: [32, 128, 28, 28]\n",
      "\t(res_block_3), \n",
      "\t\t(conv_block),  \n",
      "\t\t\t(conv1),       \n",
      "\t\t\t\t(conv),        Output shape: [32, 128, 28, 28]\n",
      "\t\t\t\t(batch_norm),  Output shape: [32, 128, 28, 28]\n",
      "\t\t\t\t(relu),        Output shape: [32, 128, 28, 28]\n",
      "\t\t\t(conv2),       \n",
      "\t\t\t\t(conv),        Output shape: [32, 128, 28, 28]\n",
      "\t\t\t\t(batch_norm),  Output shape: [32, 128, 28, 28]\n",
      "\t\t(relu),        Output shape: [32, 128, 28, 28]\n",
      "(res_layer_2), \n",
      "\t(res_block_0), \n",
      "\t\t(conv_block),  \n",
      "\t\t\t(conv1),       \n",
      "\t\t\t\t(conv),        Output shape: [32, 256, 14, 14]\n",
      "\t\t\t\t(batch_norm),  Output shape: [32, 256, 14, 14]\n",
      "\t\t\t\t(relu),        Output shape: [32, 256, 14, 14]\n",
      "\t\t\t(conv2),       \n",
      "\t\t\t\t(conv),        Output shape: [32, 256, 14, 14]\n",
      "\t\t\t\t(batch_norm),  Output shape: [32, 256, 14, 14]\n",
      "\t\t(downsample),  \n",
      "\t\t\t(downsample_conv),\n",
      "\t\t\t(downsample_batch_norm),\n",
      "\t\t(relu),        Output shape: [32, 256, 14, 14]\n",
      "\t(res_block_1), \n",
      "\t\t(conv_block),  \n",
      "\t\t\t(conv1),       \n",
      "\t\t\t\t(conv),        Output shape: [32, 256, 14, 14]\n",
      "\t\t\t\t(batch_norm),  Output shape: [32, 256, 14, 14]\n",
      "\t\t\t\t(relu),        Output shape: [32, 256, 14, 14]\n",
      "\t\t\t(conv2),       \n",
      "\t\t\t\t(conv),        Output shape: [32, 256, 14, 14]\n",
      "\t\t\t\t(batch_norm),  Output shape: [32, 256, 14, 14]\n",
      "\t\t(relu),        Output shape: [32, 256, 14, 14]\n",
      "\t(res_block_2), \n",
      "\t\t(conv_block),  \n",
      "\t\t\t(conv1),       \n",
      "\t\t\t\t(conv),        Output shape: [32, 256, 14, 14]\n",
      "\t\t\t\t(batch_norm),  Output shape: [32, 256, 14, 14]\n",
      "\t\t\t\t(relu),        Output shape: [32, 256, 14, 14]\n",
      "\t\t\t(conv2),       \n",
      "\t\t\t\t(conv),        Output shape: [32, 256, 14, 14]\n",
      "\t\t\t\t(batch_norm),  Output shape: [32, 256, 14, 14]\n",
      "\t\t(relu),        Output shape: [32, 256, 14, 14]\n",
      "\t(res_block_3), \n",
      "\t\t(conv_block),  \n",
      "\t\t\t(conv1),       \n",
      "\t\t\t\t(conv),        Output shape: [32, 256, 14, 14]\n",
      "\t\t\t\t(batch_norm),  Output shape: [32, 256, 14, 14]\n",
      "\t\t\t\t(relu),        Output shape: [32, 256, 14, 14]\n",
      "\t\t\t(conv2),       \n",
      "\t\t\t\t(conv),        Output shape: [32, 256, 14, 14]\n",
      "\t\t\t\t(batch_norm),  Output shape: [32, 256, 14, 14]\n",
      "\t\t(relu),        Output shape: [32, 256, 14, 14]\n",
      "\t(res_block_4), \n",
      "\t\t(conv_block),  \n",
      "\t\t\t(conv1),       \n",
      "\t\t\t\t(conv),        Output shape: [32, 256, 14, 14]\n",
      "\t\t\t\t(batch_norm),  Output shape: [32, 256, 14, 14]\n",
      "\t\t\t\t(relu),        Output shape: [32, 256, 14, 14]\n",
      "\t\t\t(conv2),       \n",
      "\t\t\t\t(conv),        Output shape: [32, 256, 14, 14]\n",
      "\t\t\t\t(batch_norm),  Output shape: [32, 256, 14, 14]\n",
      "\t\t(relu),        Output shape: [32, 256, 14, 14]\n",
      "\t(res_block_5), \n",
      "\t\t(conv_block),  \n",
      "\t\t\t(conv1),       \n",
      "\t\t\t\t(conv),        Output shape: [32, 256, 14, 14]\n",
      "\t\t\t\t(batch_norm),  Output shape: [32, 256, 14, 14]\n",
      "\t\t\t\t(relu),        Output shape: [32, 256, 14, 14]\n",
      "\t\t\t(conv2),       \n",
      "\t\t\t\t(conv),        Output shape: [32, 256, 14, 14]\n",
      "\t\t\t\t(batch_norm),  Output shape: [32, 256, 14, 14]\n",
      "\t\t(relu),        Output shape: [32, 256, 14, 14]\n",
      "(res_layer_3), \n",
      "\t(res_block_0), \n",
      "\t\t(conv_block),  \n",
      "\t\t\t(conv1),       \n",
      "\t\t\t\t(conv),        Output shape: [32, 512, 7, 7]\n",
      "\t\t\t\t(batch_norm),  Output shape: [32, 512, 7, 7]\n",
      "\t\t\t\t(relu),        Output shape: [32, 512, 7, 7]\n",
      "\t\t\t(conv2),       \n",
      "\t\t\t\t(conv),        Output shape: [32, 512, 7, 7]\n",
      "\t\t\t\t(batch_norm),  Output shape: [32, 512, 7, 7]\n",
      "\t\t(downsample),  \n",
      "\t\t\t(downsample_conv),\n",
      "\t\t\t(downsample_batch_norm),\n",
      "\t\t(relu),        Output shape: [32, 512, 7, 7]\n",
      "\t(res_block_1), \n",
      "\t\t(conv_block),  \n",
      "\t\t\t(conv1),       \n",
      "\t\t\t\t(conv),        Output shape: [32, 512, 7, 7]\n",
      "\t\t\t\t(batch_norm),  Output shape: [32, 512, 7, 7]\n",
      "\t\t\t\t(relu),        Output shape: [32, 512, 7, 7]\n",
      "\t\t\t(conv2),       \n",
      "\t\t\t\t(conv),        Output shape: [32, 512, 7, 7]\n",
      "\t\t\t\t(batch_norm),  Output shape: [32, 512, 7, 7]\n",
      "\t\t(relu),        Output shape: [32, 512, 7, 7]\n",
      "\t(res_block_2), \n",
      "\t\t(conv_block),  \n",
      "\t\t\t(conv1),       \n",
      "\t\t\t\t(conv),        Output shape: [32, 512, 7, 7]\n",
      "\t\t\t\t(batch_norm),  Output shape: [32, 512, 7, 7]\n",
      "\t\t\t\t(relu),        Output shape: [32, 512, 7, 7]\n",
      "\t\t\t(conv2),       \n",
      "\t\t\t\t(conv),        Output shape: [32, 512, 7, 7]\n",
      "\t\t\t\t(batch_norm),  Output shape: [32, 512, 7, 7]\n",
      "\t\t(relu),        Output shape: [32, 512, 7, 7]\n",
      "(avgpool),     Output shape: [32, 512, 1, 1]\n",
      "(flatten),     Output shape: [32, 512]\n",
      "(fc),          Output shape: [32, 10]\n"
     ]
    }
   ],
   "source": [
    "out = X\n",
    "for layer in layers_lst:\n",
    "    print_message = layer[\"level\"] * \"\\t\" + \"{0:15s}\".format(\"(\" + layer[\"name\"]+ \"),\")\n",
    "    if layer[\"is_leaf_node\"] and not layer[\"name\"].startswith(\"downsample_\"):\n",
    "        out = layer[\"layer\"](out)\n",
    "        print_message += f\"Output shape: {list(out.shape)}\"\n",
    "    print(print_message)"
   ]
  },
  {
   "cell_type": "code",
   "execution_count": 11,
   "id": "3b3370f2-78f3-4407-8d12-f940ebad5733",
   "metadata": {
    "tags": []
   },
   "outputs": [
    {
     "data": {
      "text/plain": [
       "21298314"
      ]
     },
     "execution_count": 11,
     "metadata": {},
     "output_type": "execute_result"
    }
   ],
   "source": [
    "# Model complexity - calculating the total number of parameters\n",
    "trainable_params = sum(p.numel() for p in resnet18.parameters() if p.requires_grad)\n",
    "trainable_params"
   ]
  },
  {
   "cell_type": "markdown",
   "id": "c011c2c3-94c6-46c5-9c45-46d07f9514a6",
   "metadata": {},
   "source": [
    "### Visualize your network"
   ]
  },
  {
   "cell_type": "markdown",
   "id": "97cfd1e4-04d4-4784-9e12-3c6362370263",
   "metadata": {},
   "source": [
    "You can visualize the architecture using netron.app. Execute following cell to create `resnet18_network.pt` file. Then, go to [Netron.app](https://netron.app/) and click on Open Model, and select the file that was generated."
   ]
  },
  {
   "cell_type": "code",
   "execution_count": null,
   "id": "fa029de2-f2af-4dcc-ab2e-612432d349cd",
   "metadata": {},
   "outputs": [],
   "source": [
    "scripted = torch.jit.trace(resnet18, X)"
   ]
  },
  {
   "cell_type": "code",
   "execution_count": null,
   "id": "5d79fcea-b6d4-4bcc-8fbc-b87534e855cd",
   "metadata": {},
   "outputs": [],
   "source": [
    "torch.jit.save(scripted, \"visualization/resnet18_network.pt\")"
   ]
  },
  {
   "cell_type": "markdown",
   "id": "5b2cced1-8e05-4ec2-acb2-8fd3152c626c",
   "metadata": {},
   "source": [
    "### Visualize The Computation Graph"
   ]
  },
  {
   "cell_type": "code",
   "execution_count": null,
   "id": "bbae30e4-d2e2-47ad-8e7b-268508cb9032",
   "metadata": {},
   "outputs": [],
   "source": [
    "from torchviz import make_dot"
   ]
  },
  {
   "cell_type": "code",
   "execution_count": null,
   "id": "8ce5faf2-9bde-4e21-9bdb-d1d335d7080e",
   "metadata": {},
   "outputs": [],
   "source": [
    "criterion = nn.CrossEntropyLoss()"
   ]
  },
  {
   "cell_type": "code",
   "execution_count": null,
   "id": "b5f03fc1-23f8-4c1b-a058-68fb25ec2419",
   "metadata": {},
   "outputs": [],
   "source": [
    "A = resnet18(X)"
   ]
  },
  {
   "cell_type": "code",
   "execution_count": null,
   "id": "0992dfb1-8ef1-45d2-aa56-449eb946b331",
   "metadata": {},
   "outputs": [],
   "source": [
    "loss = criterion(A, y)"
   ]
  },
  {
   "cell_type": "code",
   "execution_count": null,
   "id": "02112c9b-0235-4a59-b4e6-db9601c1bca3",
   "metadata": {},
   "outputs": [],
   "source": [
    "make_dot(\n",
    "    loss, \n",
    "    params=dict(list(resnet18.named_parameters())), \n",
    "    show_attrs=True, \n",
    "    show_saved=True\n",
    ").render(\"visualization/resnet18_model\", format=\"svg\")"
   ]
  }
 ],
 "metadata": {
  "kernelspec": {
   "display_name": "Python 3 (ipykernel)",
   "language": "python",
   "name": "python3"
  },
  "language_info": {
   "codemirror_mode": {
    "name": "ipython",
    "version": 3
   },
   "file_extension": ".py",
   "mimetype": "text/x-python",
   "name": "python",
   "nbconvert_exporter": "python",
   "pygments_lexer": "ipython3",
   "version": "3.7.6"
  }
 },
 "nbformat": 4,
 "nbformat_minor": 5
}
